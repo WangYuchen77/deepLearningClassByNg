{
 "cells": [
  {
   "cell_type": "code",
   "execution_count": 7,
   "id": "2f3357dc",
   "metadata": {},
   "outputs": [],
   "source": [
    "import numpy as np\n",
    "import h5py"
   ]
  },
  {
   "cell_type": "code",
   "execution_count": 15,
   "id": "bc55c337",
   "metadata": {},
   "outputs": [],
   "source": [
    "def load_dataset():\n",
    "    train_dataset = h5py.File('datasets/train_happy.h5', \"r\")\n",
    "    train_set_x_orig = np.array(train_dataset[\"train_set_x\"][:]) # your train set features\n",
    "    train_set_y_orig = np.array(train_dataset[\"train_set_y\"][:]) # your train set labels\n",
    "\n",
    "    test_dataset = h5py.File('datasets/test_happy.h5', \"r\")\n",
    "    test_set_x_orig = np.array(test_dataset[\"test_set_x\"][:]) # your test set features\n",
    "    test_set_y_orig = np.array(test_dataset[\"test_set_y\"][:]) # your test set labels\n",
    "\n",
    "    classes = np.array(test_dataset[\"list_classes\"][:]) # the list of classes\n",
    "    \n",
    "    train_set_y_orig = train_set_y_orig.reshape((1, train_set_y_orig.shape[0]))\n",
    "    test_set_y_orig = test_set_y_orig.reshape((1, test_set_y_orig.shape[0]))\n",
    "    \n",
    "    return train_set_x_orig, train_set_y_orig, test_set_x_orig, test_set_y_orig, classes"
   ]
  },
  {
   "cell_type": "code",
   "execution_count": 18,
   "id": "a3b35aa2",
   "metadata": {},
   "outputs": [
    {
     "name": "stdout",
     "output_type": "stream",
     "text": [
      "(600,)\n",
      "(600, 64, 64, 3)\n",
      "(600, 64, 64, 3)\n",
      "number of training examples = 600\n",
      "number of test examples = 150\n",
      "X_train shape: (600, 64, 64, 3)\n",
      "Y_train shape: (600, 1)\n",
      "X_test shape: (150, 64, 64, 3)\n",
      "Y_test shape: (150, 1)\n"
     ]
    }
   ],
   "source": [
    "X_train_orig, Y_train_orig, X_test_orig, Y_test_orig, classes = load_dataset()\n",
    "\n",
    "# Normalize image vectors\n",
    "X_train = X_train_orig/255.\n",
    "X_test = X_test_orig/255.\n",
    "\n",
    "# Reshape\n",
    "Y_train = Y_train_orig.T\n",
    "Y_test = Y_test_orig.T\n",
    "\n",
    "print (\"number of training examples = \" + str(X_train.shape[0]))\n",
    "print (\"number of test examples = \" + str(X_test.shape[0]))\n",
    "print (\"X_train shape: \" + str(X_train.shape))\n",
    "print (\"Y_train shape: \" + str(Y_train.shape))\n",
    "print (\"X_test shape: \" + str(X_test.shape))\n",
    "print (\"Y_test shape: \" + str(Y_test.shape))"
   ]
  },
  {
   "cell_type": "code",
   "execution_count": 11,
   "id": "f2342dc0",
   "metadata": {},
   "outputs": [],
   "source": [
    "import matplotlib.pyplot as plt\n"
   ]
  },
  {
   "cell_type": "code",
   "execution_count": 21,
   "id": "62ed68a3",
   "metadata": {},
   "outputs": [
    {
     "name": "stdout",
     "output_type": "stream",
     "text": [
      "0.6980392156862745\n"
     ]
    },
    {
     "data": {
      "image/png": "[encoded data removed]",
      "text/plain": [
       "<Figure size 432x288 with 1 Axes>"
      ]
     },
     "metadata": {
      "needs_background": "light"
     },
     "output_type": "display_data"
    }
   ],
   "source": [
    "%matplotlib inline\n",
    "plt.imshow(X_train[0])\n",
    "print(X_train[0,0,0,0])"
   ]
  },
  {
   "cell_type": "code",
   "execution_count": 23,
   "id": "692e0612",
   "metadata": {},
   "outputs": [],
   "source": [
    "from keras import layers\n",
    "from keras.layers import Input, Dense, Activation, ZeroPadding2D, BatchNormalization, Flatten, Conv2D\n",
    "from keras.layers import AveragePooling2D, MaxPooling2D, Dropout, GlobalMaxPooling2D, GlobalAveragePooling2D\n",
    "from keras.models import Model\n",
    "from keras.preprocessing import image\n",
    "# from keras.utils import layer_utils"
   ]
  },
  {
   "cell_type": "code",
   "execution_count": 24,
   "id": "3272f0bd",
   "metadata": {},
   "outputs": [],
   "source": [
    "def model(input_shape):  \n",
    "    # Define the input placeholder as a tensor with shape input_shape. Think of this as your input image!  \n",
    "    X_input = Input(input_shape)  \n",
    "\n",
    "    # Zero-Padding: pads the border of X_input with zeroes  \n",
    "    X = ZeroPadding2D((3, 3))(X_input)  \n",
    "\n",
    "    # CONV -> BN -> RELU Block applied to X  \n",
    "    X = Conv2D(32, (7, 7), strides = (1, 1), name = 'conv0')(X)  \n",
    "    X = BatchNormalization(axis = 3, name = 'bn0')(X)  \n",
    "    X = Activation('relu')(X)  \n",
    "\n",
    "    # MAXPOOL  \n",
    "    X = MaxPooling2D((2, 2), name='max_pool')(X)  \n",
    "\n",
    "    # FLATTEN X (means convert it to a vector) + FULLYCONNECTED  \n",
    "    X = Flatten()(X)  \n",
    "    X = Dense(1, activation='sigmoid', name='fc')(X)  \n",
    "\n",
    "    # Create model. This creates your Keras model instance, you'll use this instance to train/test the model.  \n",
    "    model = Model(inputs = X_input, outputs = X, name='HappyModel')  \n",
    "\n",
    "    return model\n"
   ]
  },
  {
   "cell_type": "code",
   "execution_count": 25,
   "id": "f4220b08",
   "metadata": {},
   "outputs": [],
   "source": [
    "# GRADED FUNCTION: HappyModel\n",
    "\n",
    "def HappyModel(input_shape):\n",
    "    \"\"\"\n",
    "    Implementation of the HappyModel.\n",
    "    \n",
    "    Arguments:\n",
    "    input_shape -- shape of the images of the dataset\n",
    "\n",
    "    Returns:\n",
    "    model -- a Model() instance in Keras\n",
    "    \"\"\"\n",
    "    \n",
    "    ### START CODE HERE ###\n",
    "    # Feel free to use the suggested outline in the text above to get started, and run through the whole\n",
    "    # exercise (including the later portions of this notebook) once. The come back also try out other\n",
    "    # network architectures as well. \n",
    "    X_input = Input(shape=input_shape)\n",
    "    X = ZeroPadding2D(padding=(1, 1))(X_input)\n",
    "    X = Conv2D(8, kernel_size=(3,3), strides=(1,1))(X)\n",
    "    X = BatchNormalization(axis=3)(X)\n",
    "    X = Activation('relu')(X)\n",
    "    X = MaxPooling2D(pool_size=(2,2), strides=(2,2), padding='valid')(X)\n",
    "    \n",
    "    X = ZeroPadding2D(padding=(1, 1))(X)\n",
    "    X = Conv2D(16, kernel_size=(3,3), strides=(1,1))(X)\n",
    "    X = BatchNormalization(axis=3)(X)\n",
    "    X = Activation('relu')(X)\n",
    "    X = MaxPooling2D(pool_size=(2,2), strides=(2,2), padding='valid')(X)\n",
    "    \n",
    "    X = ZeroPadding2D(padding=(1, 1))(X)\n",
    "    X = Conv2D(32, kernel_size=(3,3), strides=(1,1))(X)\n",
    "    X = BatchNormalization(axis=3)(X)\n",
    "    X = Activation('relu')(X)\n",
    "    X = MaxPooling2D(pool_size=(2,2), strides=(2,2), padding='valid')(X)\n",
    "    \n",
    "    # FC\n",
    "    X = Flatten()(X)\n",
    "    Y = Dense(1, activation='sigmoid')(X)\n",
    "    \n",
    "    model = Model(inputs = X_input, outputs = Y, name='HappyModel')\n",
    "    ### END CODE HERE ###\n",
    "    \n",
    "    return model\n",
    "\n"
   ]
  },
  {
   "cell_type": "code",
   "execution_count": 28,
   "id": "233aaef6",
   "metadata": {},
   "outputs": [],
   "source": [
    "happyModel = HappyModel((64, 64, 3))"
   ]
  },
  {
   "cell_type": "code",
   "execution_count": 33,
   "id": "8359cbb4",
   "metadata": {},
   "outputs": [],
   "source": [
    "import keras\n",
    "import tensorflow as tf\n",
    "happyModel.compile(optimizer=tf.keras.optimizers.Adam(learning_rate=0.001), loss='binary_crossentropy', metrics=['accuracy'])\n"
   ]
  },
  {
   "cell_type": "code",
   "execution_count": 34,
   "id": "dac49399",
   "metadata": {},
   "outputs": [
    {
     "name": "stdout",
     "output_type": "stream",
     "text": [
      "Epoch 1/20\n",
      "38/38 [==============================] - 2s 13ms/step - loss: 0.4543 - accuracy: 0.7983\n",
      "Epoch 2/20\n",
      "38/38 [==============================] - 0s 12ms/step - loss: 0.2424 - accuracy: 0.9083\n",
      "Epoch 3/20\n",
      "38/38 [==============================] - 0s 12ms/step - loss: 0.1599 - accuracy: 0.9517\n",
      "Epoch 4/20\n",
      "38/38 [==============================] - 0s 11ms/step - loss: 0.1114 - accuracy: 0.9617\n",
      "Epoch 5/20\n",
      "38/38 [==============================] - 0s 12ms/step - loss: 0.0925 - accuracy: 0.9800\n",
      "Epoch 6/20\n",
      "38/38 [==============================] - 0s 12ms/step - loss: 0.0736 - accuracy: 0.9833\n",
      "Epoch 7/20\n",
      "38/38 [==============================] - 0s 12ms/step - loss: 0.0586 - accuracy: 0.9883\n",
      "Epoch 8/20\n",
      "38/38 [==============================] - 0s 12ms/step - loss: 0.0690 - accuracy: 0.9817\n",
      "Epoch 9/20\n",
      "38/38 [==============================] - 0s 12ms/step - loss: 0.0564 - accuracy: 0.9900\n",
      "Epoch 10/20\n",
      "38/38 [==============================] - 0s 12ms/step - loss: 0.0447 - accuracy: 0.9867\n",
      "Epoch 11/20\n",
      "38/38 [==============================] - 1s 14ms/step - loss: 0.0405 - accuracy: 0.9933\n",
      "Epoch 12/20\n",
      "38/38 [==============================] - 0s 13ms/step - loss: 0.0270 - accuracy: 0.9933\n",
      "Epoch 13/20\n",
      "38/38 [==============================] - 0s 12ms/step - loss: 0.0238 - accuracy: 0.9950\n",
      "Epoch 14/20\n",
      "38/38 [==============================] - 0s 12ms/step - loss: 0.0260 - accuracy: 0.9933\n",
      "Epoch 15/20\n",
      "38/38 [==============================] - 0s 12ms/step - loss: 0.0205 - accuracy: 0.9950\n",
      "Epoch 16/20\n",
      "38/38 [==============================] - 0s 12ms/step - loss: 0.0154 - accuracy: 0.9983\n",
      "Epoch 17/20\n",
      "38/38 [==============================] - 0s 12ms/step - loss: 0.0142 - accuracy: 0.9967\n",
      "Epoch 18/20\n",
      "38/38 [==============================] - 0s 12ms/step - loss: 0.0123 - accuracy: 0.9967\n",
      "Epoch 19/20\n",
      "38/38 [==============================] - 0s 11ms/step - loss: 0.0092 - accuracy: 1.0000\n",
      "Epoch 20/20\n",
      "38/38 [==============================] - 0s 11ms/step - loss: 0.0089 - accuracy: 0.9983\n"
     ]
    },
    {
     "data": {
      "text/plain": [
       "<keras.src.callbacks.History at 0x7f1f0431e1f0>"
      ]
     },
     "execution_count": 34,
     "metadata": {},
     "output_type": "execute_result"
    }
   ],
   "source": [
    "happyModel.fit(x=X_train, y=Y_train, batch_size=16, epochs=20)"
   ]
  },
  {
   "cell_type": "code",
   "execution_count": 35,
   "id": "27e13aa0",
   "metadata": {},
   "outputs": [
    {
     "name": "stdout",
     "output_type": "stream",
     "text": [
      "5/5 [==============================] - 0s 6ms/step - loss: 0.0990 - accuracy: 0.9467\n",
      "\n",
      "Loss = 0.09897635132074356\n",
      "Test Accuracy = 0.9466666579246521\n"
     ]
    }
   ],
   "source": [
    "### START CODE HERE ### (1 line)\n",
    "preds = happyModel.evaluate(x=X_test, y=Y_test)\n",
    "### END CODE HERE ###\n",
    "print()\n",
    "print (\"Loss = \" + str(preds[0]))\n",
    "print (\"Test Accuracy = \" + str(preds[1]))"
   ]
  },
  {
   "cell_type": "code",
   "execution_count": null,
   "id": "453af866",
   "metadata": {},
   "outputs": [],
   "source": [
    "x c"
   ]
  }
 ],
 "metadata": {
  "kernelspec": {
   "display_name": "Python 3 (ipykernel)",
   "language": "python",
   "name": "python3"
  },
  "language_info": {
   "codemirror_mode": {
    "name": "ipython",
    "version": 3
   },
   "file_extension": ".py",
   "mimetype": "text/x-python",
   "name": "python",
   "nbconvert_exporter": "python",
   "pygments_lexer": "ipython3",
   "version": "3.9.12"
  }
 },
 "nbformat": 4,
 "nbformat_minor": 5
}
